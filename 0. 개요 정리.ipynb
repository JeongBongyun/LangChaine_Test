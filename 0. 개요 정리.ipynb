{
 "cells": [
  {
   "cell_type": "markdown",
   "id": "0f67ceac",
   "metadata": {},
   "source": [
    "## GPT-4, Langchain 을 활용하여 실전형 AI 웹 서비스\n",
    "- 활용하는 패키지 :  Langchain, GPT-4, Whisper, FastAPI, Streamlit, Pinecone, Hugging Face … 등\n",
    "- 구현하는 ChatGPT 플러그인 : ChefGPT"
   ]
  },
  {
   "cell_type": "markdown",
   "id": "9e1fb611",
   "metadata": {},
   "source": [
    "### 주요 기술\n",
    "#### Langchain(랭체인)\n",
    "- OpenAI, Cohere, Bloom, Huggingface 등 여러 대형 LLM 공급업체와의 상호작용을 간소화하기 위해 설계된 강력한 라이브러리\n",
    "- LLM(Large language model)을 활용한 어플리케이션을 만들기 위한 Framework\n",
    "- LanChaine 종류 → 각 종류에 대해 사용법을 익히는데 초점\n",
    "    - 1. Document를 위한 Module\n",
    "    - 2. Embedding을 위한 Module\n",
    "    - 3. Prompt를 위한 Module\n",
    "    - 4. Large language model을 위한 Module\n",
    "    - 5. Chat model을 위한 Module 등 이외에도 수없이 많음\n",
    "- LangSmith : Debugger\n",
    "    - Open AI를 얼마나 호출했는지 알려주거나, 어떤 일이 일어났는지 기록하며, Agent가 어떤 일을 몇 번이나 수행했는지, 얼마나 오래 걸렸는지까지 알려주는 기능\n",
    "    - 추가로 Agent를 위한 Model도 다양함 → Github tool을 Agent에 연결하거나, Wigipedia tool을 연결 할 수도 있음\n",
    "- 일반적으로 LLM 선택 시 GPT-4가 가장 성능이 좋지만, HuggingFace에서 제공하는 모델로도 연동 가능 → 한국어 쌉가능!\n",
    "<br><br>\n",
    "#### Streamlit(스트림릿)\n",
    "- 데이터 과학 및 머신 러닝을 위한 사용자 정의 웹 앱을 생성할 수 있는 오픈 소스 파이썬 프레임워크\n",
    "- Python 코드만 작성하면 브라우저를 위한 UI를 자동으로 생성(모든 종류의 AI 어플리케이션을 위한 UI를 만들 수 있음!)\n",
    "<br><br>\n",
    "#### Pinecone(파인콘)\n",
    "- 일종의 Vector를 위한 Database\n",
    "- 대규모 데이터 셋에서 복잡한 패턴이나 관계를 기반으로 유사한 항목을 빠르고 정확하게 찾는 과정(백터 검색)을 위한 관리형 서비스\n",
    "<br><br>\n",
    "#### FastAPI\n",
    "- 파이썬 기반의 웹 프레임워크로, 주로 API 개발에 특화되어 있음\n",
    "- ChatGPT plugin의 목적인 API 구축을 위해 사용\n",
    "    - Starlette(비동기 ASGI 프레임워크, 웹 사이트가 여러 작업을 동시에 효율적으로 처리할 수 있게 해주는 기능)와 Pydantic(입출력 항목의 정의 및 검증)을 사용하여 높은 성능과 빠른 개발 속도를 제공\n",
    "    - 자동 생성되는 API 문서(어떻게 작동하는지 설명하는 문서)를 통해 손쉽게 테스트할 수 있으며, SQLAlchemy(DB와 프로그램 사이 다리 역할, ORM 라이브러리)와의 연동을 통해 ORM을 지원"
   ]
  },
  {
   "cell_type": "markdown",
   "id": "fb7a20bb",
   "metadata": {},
   "source": [
    "- 목표 : 6가지 프로젝트 완료 후 ChatGPT Plugin 만들기\n",
    "    - ChatGPT Plugin을 Chat GPT 스토어에 올리는 방법 등 자신이 가진 데이터를 이용해 GPT 애플리케이션을 만드는 방법을 터득하는게 목적"
   ]
  },
  {
   "cell_type": "code",
   "execution_count": null,
   "id": "4bad60a8",
   "metadata": {},
   "outputs": [],
   "source": []
  }
 ],
 "metadata": {
  "kernelspec": {
   "display_name": "Python 3 (ipykernel)",
   "language": "python",
   "name": "python3"
  },
  "language_info": {
   "codemirror_mode": {
    "name": "ipython",
    "version": 3
   },
   "file_extension": ".py",
   "mimetype": "text/x-python",
   "name": "python",
   "nbconvert_exporter": "python",
   "pygments_lexer": "ipython3",
   "version": "3.11.3"
  },
  "toc": {
   "base_numbering": 1,
   "nav_menu": {},
   "number_sections": true,
   "sideBar": true,
   "skip_h1_title": false,
   "title_cell": "Table of Contents",
   "title_sidebar": "Contents",
   "toc_cell": false,
   "toc_position": {},
   "toc_section_display": true,
   "toc_window_display": false
  },
  "varInspector": {
   "cols": {
    "lenName": 16,
    "lenType": 16,
    "lenVar": 40
   },
   "kernels_config": {
    "python": {
     "delete_cmd_postfix": "",
     "delete_cmd_prefix": "del ",
     "library": "var_list.py",
     "varRefreshCmd": "print(var_dic_list())"
    },
    "r": {
     "delete_cmd_postfix": ") ",
     "delete_cmd_prefix": "rm(",
     "library": "var_list.r",
     "varRefreshCmd": "cat(var_dic_list()) "
    }
   },
   "types_to_exclude": [
    "module",
    "function",
    "builtin_function_or_method",
    "instance",
    "_Feature"
   ],
   "window_display": false
  }
 },
 "nbformat": 4,
 "nbformat_minor": 5
}
